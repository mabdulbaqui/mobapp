{
 "cells": [
  {
   "cell_type": "code",
   "execution_count": 1,
   "metadata": {},
   "outputs": [],
   "source": [
    "import requests\n",
    "from bs4 import BeautifulSoup as bs\n",
    "import pandas as pd \n",
    "import json"
   ]
  },
  {
   "cell_type": "code",
   "execution_count": 2,
   "metadata": {},
   "outputs": [],
   "source": [
    "def get_data(link,c):\n",
    "    try:\n",
    "        x=requests.get(link)\n",
    "        soup=bs(x.text,'html5lib')\n",
    "        title=soup.find(class_=\"product-meta__title heading h1\").text\n",
    "        price=int(\"\".join([i for i in soup.find(class_=\"price\").text if i.isdigit()]))\n",
    "        Game_Information=soup.find(class_=\"rte text--pull\").find(\"ul\")\n",
    "        Game_Information={i.find(\"h5\").text:i.find('p').text for i in Game_Information.find_all('li')}\n",
    "        img_link='https:'+soup.find(class_='card__section card__section--tight').find('noscript').find('img')['src']\n",
    "        img= requests.get(img_link)\n",
    "        informations={\n",
    "        \"id\":f\"a{c}\",\n",
    "        \"cat\":link[36:44],\n",
    "        \"title\":f\"{title}\",\n",
    "        \"price\":f\"{price}\",\n",
    "        \"Game_Information\":Game_Information,\n",
    "        \"Description\":soup.find_all(class_='card')[-1].find(\"p\").text,\n",
    "        'img':img\n",
    "        }\n",
    "\n",
    "        with open(f'./imgs/a{c}.png','wb') as f :\n",
    "            f.write(img.content)\n",
    "        return informations\n",
    "    except:\n",
    "        return f\" oopssss  {link}\"\n"
   ]
  },
  {
   "cell_type": "code",
   "execution_count": 3,
   "metadata": {},
   "outputs": [
    {
     "data": {
      "text/plain": [
       "190"
      ]
     },
     "execution_count": 3,
     "metadata": {},
     "output_type": "execute_result"
    }
   ],
   "source": [
    "def links_ex(link):\n",
    "    x=requests.get(link)\n",
    "    soup=bs(x.text,'html5lib')\n",
    "    links=soup.find_all('a',class_=\"product-item__image-wrapper\")\n",
    "    links=['https://shamystores.com'+i['href'] for i in links]\n",
    "    return links\n",
    "\n",
    "all_links=links_ex('https://shamystores.com/collections/ps5-games')\n",
    "all_links.extend(links_ex('https://shamystores.com/collections/ps5-games?page=2'))\n",
    "all_links.extend(links_ex('https://shamystores.com/collections/ps4-games'))\n",
    "all_links.extend(links_ex('https://shamystores.com/collections/ps4-games?page=2'))\n",
    "all_links.extend(links_ex('https://shamystores.com/collections/xbox-games'))\n",
    "all_links.extend(links_ex('https://shamystores.com/collections/xbox-games?page=2'))\n",
    "all_links.extend(links_ex('https://shamystores.com/collections/nintendo-switch-games'))\n",
    "all_links.extend(links_ex('https://shamystores.com/collections/nintendo-switch-games?page=2'))\n",
    "len(all_links)"
   ]
  },
  {
   "cell_type": "code",
   "execution_count": 4,
   "metadata": {},
   "outputs": [],
   "source": [
    "all_data=[]\n",
    "c= 0\n",
    "for link in all_links:\n",
    "    x=get_data(link,c)\n",
    "    if \"oopssss\" not in x:\n",
    "        c+=1\n",
    "        all_data.append(x)"
   ]
  },
  {
   "cell_type": "code",
   "execution_count": 5,
   "metadata": {},
   "outputs": [],
   "source": [
    "import pickle\n",
    "with open('arr.pkl', \"wb\") as f:\n",
    "    pickle.dump(all_data, f)"
   ]
  },
  {
   "cell_type": "code",
   "execution_count": 6,
   "metadata": {},
   "outputs": [],
   "source": [
    "df=pd.DataFrame ([i for i in  all_data if \"oopssss\" not in i])"
   ]
  },
  {
   "cell_type": "code",
   "execution_count": 31,
   "metadata": {},
   "outputs": [
    {
     "data": {
      "text/plain": [
       "134"
      ]
     },
     "execution_count": 31,
     "metadata": {},
     "output_type": "execute_result"
    }
   ],
   "source": [
    "len(all_data)"
   ]
  },
  {
   "cell_type": "code",
   "execution_count": 7,
   "metadata": {},
   "outputs": [],
   "source": [
    "df['Game_Information']=df['Game_Information'].apply(lambda x: json.dumps(x))"
   ]
  },
  {
   "cell_type": "code",
   "execution_count": 32,
   "metadata": {},
   "outputs": [],
   "source": [
    "from random import randint"
   ]
  },
  {
   "cell_type": "code",
   "execution_count": 11,
   "metadata": {},
   "outputs": [],
   "source": [
    "df['rate']=0\n",
    "df['rate']=df['rate'].apply(lambda x:randint(0, 5))"
   ]
  },
  {
   "cell_type": "code",
   "execution_count": 36,
   "id": "dbaae7b9",
   "metadata": {},
   "outputs": [],
   "source": [
    "import sqlite3 as sql"
   ]
  },
  {
   "cell_type": "code",
   "execution_count": 37,
   "id": "7bbccdaf",
   "metadata": {},
   "outputs": [
    {
     "data": {
      "text/plain": [
       "<sqlite3.Connection at 0x278bd6ebe40>"
      ]
     },
     "execution_count": 37,
     "metadata": {},
     "output_type": "execute_result"
    }
   ],
   "source": [
    "import sqlite3 as sql\n",
    "conn = sql.connect('data__db.db')\n",
    "conn"
   ]
  },
  {
   "cell_type": "code",
   "execution_count": 39,
   "metadata": {},
   "outputs": [
    {
     "data": {
      "text/plain": [
       "134"
      ]
     },
     "execution_count": 39,
     "metadata": {},
     "output_type": "execute_result"
    }
   ],
   "source": [
    "df.to_sql('users', con=conn)"
   ]
  },
  {
   "cell_type": "code",
   "execution_count": 40,
   "id": "32592612",
   "metadata": {},
   "outputs": [
    {
     "data": {
      "text/plain": [
       "{'id': dtype('O'),\n",
       " 'cat': dtype('O'),\n",
       " 'title': dtype('O'),\n",
       " 'price': dtype('O'),\n",
       " 'Game_Information': dtype('O'),\n",
       " 'Description': dtype('O'),\n",
       " 'img': dtype('O'),\n",
       " 'rate': dtype('int64')}"
      ]
     },
     "execution_count": 40,
     "metadata": {},
     "output_type": "execute_result"
    }
   ],
   "source": [
    "column_types = dict(df.dtypes)\n",
    "column_types"
   ]
  },
  {
   "cell_type": "code",
   "execution_count": 41,
   "metadata": {},
   "outputs": [],
   "source": [
    "column_types={}\n",
    "for i , v in df.dtypes.items():\n",
    "    column_types[i]=v\n"
   ]
  },
  {
   "cell_type": "code",
   "execution_count": 42,
   "id": "12bd26f3",
   "metadata": {},
   "outputs": [
    {
     "name": "stdout",
     "output_type": "stream",
     "text": [
      "id text,\n",
      "cat text,\n",
      "title text,\n",
      "price text,\n",
      "Game_Information text,\n",
      "Description text,\n",
      "img text,\n",
      "rate integer\n"
     ]
    }
   ],
   "source": [
    "column_types = dict(df.dtypes)\n",
    "\n",
    "columns = []\n",
    "\n",
    "for column_name in column_types:\n",
    "    \n",
    "    if column_types[column_name] == 'object':\n",
    "        dtype = 'text'\n",
    "    elif column_types[column_name] == 'int64':\n",
    "        dtype = 'integer'\n",
    "    elif column_types[column_name] == 'int32':\n",
    "        dtype = 'integer'\n",
    "        \n",
    "    elif column_types[column_name] == 'float64':\n",
    "        dtype = 'real'\n",
    "    else:\n",
    "        print(column_types[column_name])\n",
    "        raise Exception\n",
    "        \n",
    "    columns.append(f'{column_name} {dtype}')\n",
    "\n",
    "s = ',\\n'.join(columns)\n",
    "print(s)"
   ]
  },
  {
   "cell_type": "code",
   "execution_count": 43,
   "id": "2c17af3e",
   "metadata": {},
   "outputs": [],
   "source": [
    "create_table = '''\n",
    "                    create table products(\n",
    "                    id text,\n",
    "                    cat text,\n",
    "                    title text,\n",
    "                    price text,\n",
    "                    Game_Information text,\n",
    "                    Description text,\n",
    "                    img blob,\n",
    "                    rate integer\n",
    "                    );\n",
    "               '''"
   ]
  },
  {
   "cell_type": "code",
   "execution_count": 44,
   "metadata": {},
   "outputs": [
    {
     "data": {
      "text/plain": [
       "<sqlite3.Cursor at 0x278bd8a4640>"
      ]
     },
     "execution_count": 44,
     "metadata": {},
     "output_type": "execute_result"
    }
   ],
   "source": [
    "conn.execute(create_table)"
   ]
  }
 ],
 "metadata": {
  "interpreter": {
   "hash": "456a94387ebaa7d1f1b29a69266b262b64afb886d514a8ccba6c5f4c6bbf4bf3"
  },
  "kernelspec": {
   "display_name": "Python 3.10.1 64-bit",
   "language": "python",
   "name": "python3"
  },
  "language_info": {
   "codemirror_mode": {
    "name": "ipython",
    "version": 3
   },
   "file_extension": ".py",
   "mimetype": "text/x-python",
   "name": "python",
   "nbconvert_exporter": "python",
   "pygments_lexer": "ipython3",
   "version": "3.10.1"
  },
  "orig_nbformat": 4
 },
 "nbformat": 4,
 "nbformat_minor": 2
}
